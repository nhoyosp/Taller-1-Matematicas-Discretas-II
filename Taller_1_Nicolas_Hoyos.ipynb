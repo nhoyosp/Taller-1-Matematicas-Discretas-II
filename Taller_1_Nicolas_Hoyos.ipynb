{
  "nbformat": 4,
  "nbformat_minor": 0,
  "metadata": {
    "colab": {
      "name": "Taller 1 Nicolas Hoyos.ipynb",
      "provenance": [],
      "collapsed_sections": []
    },
    "kernelspec": {
      "name": "python3",
      "display_name": "Python 3"
    }
  },
  "cells": [
    {
      "cell_type": "markdown",
      "metadata": {
        "id": "be7Pq6U1_L-0"
      },
      "source": [
        "Ejercicio 1. Empezamos comprobando la asociatividad $$\\bar a+(\\bar b + \\bar c)=(\\bar a+\\bar b )+ \\bar c$$ $$ a+(\\overline{b+c})=(\\overline{a+b})+\\bar c $$ $$\\overline{a+b+c} = \\overline{a+b+c}$$ acabamos de mostrar que el modulo es el mismo para todo n.\n",
        "Ahora para buscar que la operacion sea cerrada nos aprovechamos de la congruencia del grupo $x \\in Z : x = a+ kn \\therefore \\bar x = \\bar a +\\overline{kn}$ si n es cero entonces $\\bar x = \\bar a$. Entonces el grupo de los enteros modulo n comprende de 0 a n-1.\n",
        "Identidad $e=0$.\n",
        "Ahora hallamos la inversa: Tenemos que $\\overline{a+b} = 0 $  con $a,b\\in G$, $a+b=n\\therefore b=n-a$ como $a \\in G$ y ningun elemento es mayor a n entonces existe una inversa para cada elemento"
      ]
    },
    {
      "cell_type": "markdown",
      "metadata": {
        "id": "pn_zvcy5Qj7z"
      },
      "source": [
        "Ejercicio 2. Comenzamos hallando la identidad del grupo. Vemos que la identidad es $e=k=0$, pues $e^{\\frac{2k\\pi i}{n}}=1\\therefore 1*a=a*1=a$.\n",
        "Inversa del grupo: $$e^{\\frac{2k\\pi i}{n}}*e^{\\frac{2j\\pi i}{n}}=1$$ $$e^{\\frac{2k\\pi i}{n}}*e^{\\frac{2j\\pi i}{n}}=e^0$$ $${\\frac{2k\\pi i}{n}}*{\\frac{2j\\pi i}{n}}=0$$ $$ \\frac{2\\pi i(j+k)}{n} =0 $$ si $j+k = 0$, $j=-k$ Se tiene para todo $k \\in Z$"
      ]
    },
    {
      "cell_type": "markdown",
      "metadata": {
        "id": "mDGNhpv5FAxv"
      },
      "source": [
        "Ejercicio 3. Como $G$ es finito existen dos elementos x,y pertenecientes a los naturales con x < y tal que $a^x=a^y$. Por lo tanto podemos decir que $a^x=a^{x+y-x}$, Luego $a^x=a^x*a^{y-x}$, por lo tanto nuestra identidad $e$ es $a^{y-x}$. Ahora para hallar la inversa de cada elemento haremos un proceso analogo al que hicimos para hallar la identidad, vamos a suponer que tenemos $p,q\\in N$ con p < q tal que $b^p=b^q$, entonces, $b^p*e=b^q$, $b^q=b^p*b^{q-p}$, luego, $e=b^{q-p}$. Si $q-p=1$ entonces $b=e$, entonces $e^{-1}=e$, si $q-p>1$, entonces $e=b*b^{q-p-1}=b^{q-p-q}*b$, luego, $b^{-1}=b^{q-p-1}$, entonces para cualquier caso, $b$ tiene una inversa en $G$ con respecto a la operacion $*$. Al tener un elemento indentidad y una inversa comprobamos que $G$ es un grupo. El contraejemplo es el conjunto de los enteros positivos bajo la suma pues un elemento a^n positivo bajo la multiplicacion no es ciclico."
      ]
    },
    {
      "cell_type": "markdown",
      "metadata": {
        "id": "Cb469n7uVksg"
      },
      "source": [
        "Ejercicio 4.a) si $a \\in G \\therefore a^2=e$, luego $$(ab)^2=e$$ $$ab*a(b*b)a=e*b*a$$ $$abaea=b*a$$ $$a*b*a^2=b*a$$ $$a*b=b*a$$. Entonces G es abeliano\n",
        "\n",
        "---\n",
        "b)$G$ es abeliano si y solo si $f(x)=x^{-1}$ es un homomorfismo $\\therefore \\varphi:G \\to G, a,b\\in G\\therefore \\varphi(a\\cdot b)=\\varphi (a)\\cdot \\varphi (b)$, ahora nos preguntamos si $(a\\cdot b)^{-1}=a^{-1}\\cdot b^{-1}$, $$(a\\cdot b)^{-1}\\cdot (a\\cdot b)=a^{-1}\\cdot b^{-1}(a\\cdot b)$$ $$e=(a^{-1}\\cdot(b^{-1}\\cdot b)a)$$ $$e=e$$\n",
        "\n",
        "---\n",
        "Ahora como $f(x)=x^{-1}$ es un homomorfismo nos preguntamos si $a\\cdot b= b\\cdot a$ $$ (a\\cdot b)(a\\cdot b)^{-1}=b\\cdot a \\cdot a^{-1}  \\cdot b^{-1}$$ $$e=e$$\n",
        "como la inversa de ab = ba y solo se tiene una unica inversa\n",
        "\n",
        "\n"
      ]
    },
    {
      "cell_type": "markdown",
      "metadata": {
        "id": "1wDYCXbwknQK"
      },
      "source": [
        "Ejercicio 5: partimos de que $a^2\\cdot b^2=(a\\cdot b)^2 \\therefore$ $$ a^{-1}a^2\\cdot b^2 b^{-1}=a^{-1}\\cdot abab\\cdot b^{-1}$$ $$eab=eba$$ Por lo tanto $G$ es abeliano"
      ]
    },
    {
      "cell_type": "markdown",
      "metadata": {
        "id": "6UFsp6dmmPh4"
      },
      "source": [
        "Ejercicio 6:a) para demostrar que $a$ y $a^{-1} $tienen el mismo orden partimos de que:\n",
        "$$a_1,a_2,a_3...,a_n=a^{-1}_1, a^{-1}_2, a^{-1}_3,...,a^{-1}_n$$ \n",
        "$$ a_1,a_2,a_3,...,a_{n-1},a_{n}=e\\therefore a^n=e$$\n",
        "$$a^n\\cdot a^{-1}=e\\cdot a^{-n}\\therefore e = a^{-n}=a^n$$\n",
        "\n",
        "---\n",
        "b) \n",
        "\\begin{align*}\n",
        "  (a\\cdot b)^m &=e \\\\\n",
        "  ab(ab)^{m-2}&=e\\\\\n",
        "  a^{-1}\\cdot ab(ab)^{m-1}&=a^{-1}\\\\\n",
        "  b\\cdot (ab)^{m-1}a&=a^{-1}\\cdot a\\\\\n",
        "  (b\\cdot a)^m = e &=(a\\cdot b)^m\n",
        "\\end{align*}\n",
        "\n",
        "---\n",
        "c) \n",
        "\\begin{align*}\n",
        "  (abc)^m&=e\\\\\n",
        "  a^{-1}abc(abc)^{m-1}&=a^{-1}\\\\\n",
        "  bc(abc)^{m-1}a&=a^{-1}a\\\\\n",
        "  (bca)^m=e\n",
        "\\end{align*}\n",
        "Si podemos generalizar pues podemos escoger cualquier cantidad de elementos del final al principio de forma ordenada sin afectar el orden.\n",
        "\n",
        "\n"
      ]
    },
    {
      "cell_type": "markdown",
      "metadata": {
        "id": "XZ4rtWZDrMfg"
      },
      "source": [
        "Ejercicio 7:con n=2 \n",
        "\\begin{equation}\n",
        "\\begin{matrix}\n",
        " &  & a & b \\\\\n",
        "a &  |& b & a \\\\\n",
        "b & | & a & b \\\\\n",
        "\\end{matrix}\n",
        "\\end{equation}\n",
        "\\\n",
        "\\begin{equation}\n",
        "\\begin{matrix}\n",
        " &  & a & b \\\\\n",
        "a &  |& a & b \\\\\n",
        "b & | & b & a \\\\\n",
        "\\end{matrix}\n",
        "\\end{equation}\n",
        "$eab=e(ab), ab=a, a=a$\\\n",
        "Ahora con n=3\n",
        "\\begin{equation}\n",
        "\\begin{matrix}\n",
        "  &   & a & b & c & \\\\\n",
        "a & | & a & b & c & \\\\\n",
        "b & | & c & a & b & \\\\\n",
        "c & | & b & c & a & \\\\\n",
        "\\end{matrix}\n",
        "\\end{equation}\n",
        "$b(a\\cdot a)=(b\\cdot a)a, ba=ca, c=b$\\\n",
        "Ahora con n = 4\n",
        "\\begin{equation}\n",
        "\\begin{matrix}\n",
        "  &   & a & b & c & d &  \\\\\n",
        "a & | & a & b & c & d & |\\\\\n",
        "b & | & d & a & b & c & |\\\\\n",
        "c & | & c & d & a & b & |\\\\\n",
        "d & | & b & c & d & a & |\\\\\n",
        "\\end{matrix}\n",
        "\\end{equation}\n",
        "$b\\cdot (a\\cdot a)=(b\\cdot a)a, b\\cdot a = d\\cdot a, d=b$\\\n",
        "Concluimos que se cumple para $n \\geq 3$"
      ]
    },
    {
      "cell_type": "code",
      "metadata": {
        "id": "s9aSHMrtDCXj",
        "outputId": "5cd5c93a-b6f4-4c81-f180-2c2a2a83fb98",
        "colab": {
          "base_uri": "https://localhost:8080/",
          "height": 84
        }
      },
      "source": [
        "#ejercicio #8\n",
        "from itertools import permutations \n",
        "d=int(input(\"ingrese el n: \"))\n",
        "a=\"\"\n",
        "b=1\n",
        "count = 1\n",
        "for k in range(d):\n",
        "  a = a + str(count)\n",
        "  count += 1\n",
        "\n",
        "p = list (permutations(a))\n",
        "esquina = list (p[0])\n",
        "for i in range(len(esquina)):\n",
        "  esquina[int (i)] = '0'\n",
        "\n",
        "print(esquina, end=\" \")\n",
        "\n",
        "for i in p:\n",
        "  print(i, end=\" \")\n",
        "\n",
        "print(\"\")\n",
        "\n",
        "\n",
        "for j in list (p):\n",
        "  aux = list (j)\n",
        "  print(j, end= \" \")\n",
        "  for k in list (p):\n",
        "\n",
        "    for i in range(len(k)): #d - lenght por permutación\n",
        "          aux[int (k[i]) - 1] = j[i];\n",
        "          \n",
        "    print(aux, end=\" \")\n",
        "  \n",
        "  print(\"\")"
      ],
      "execution_count": 4,
      "outputs": [
        {
          "output_type": "stream",
          "text": [
            "ingrese el n: 2\n",
            "['0', '0'] ('1', '2') ('2', '1') \n",
            "('1', '2') ['1', '2'] ['2', '1'] \n",
            "('2', '1') ['2', '1'] ['1', '2'] \n"
          ],
          "name": "stdout"
        }
      ]
    },
    {
      "cell_type": "code",
      "metadata": {
        "id": "qzntcQ0vDpk7"
      },
      "source": [
        "#ejercicio #9\n",
        "from itertools import permutations \n",
        "#Grafo de los puentes de Koenigsberg\n",
        "grafo = [[0,2,0,1],[2,0,2,1],[0,2,0,1],[1,1,1,0]]\n",
        "\n",
        "p = list (permutations('0123'))\n",
        "print(\"----GRAFO----\")\n",
        "for j  in list (grafo):\n",
        "  print(j)\n",
        "for permutacion in p:\n",
        "  isAutomor = True\n",
        "  for i in range(4):\n",
        "    for j in range(4):\n",
        "      if grafo[int (permutacion[i])][int (permutacion[j])] != grafo[i][j]:\n",
        "        isAutomor = False \n",
        "        break\n",
        "      else:\n",
        "        isAutomor = isAutomor and True\n",
        "    if not isAutomor:\n",
        "      break\n",
        "  print(permutacion, \" \", isAutomor)\n"
      ],
      "execution_count": null,
      "outputs": []
    },
    {
      "cell_type": "code",
      "metadata": {
        "id": "sTsqLJqoD8Wy",
        "outputId": "096a41f1-060b-4868-eba2-aac7dcd58fdd",
        "colab": {
          "base_uri": "https://localhost:8080/",
          "height": 622
        }
      },
      "source": [
        "#Ejercicio 10\n",
        "from itertools import permutations \n",
        "#Inserte en grafo 1 y 2 los grafos a los que quiere comprobar isomorfismo\n",
        "grafo = [[0,1,1,0],\n",
        "         [1,0,0,1],\n",
        "         [1,0,0,1],\n",
        "         [0,1,1,0]]\n",
        "         \n",
        "grafo2 = [[0,1,0,1],\n",
        "          [1,0,1,0],\n",
        "          [0,1,0,1],\n",
        "          [1,0,1,0]]\n",
        "print(\"**GRAFO1**\")\n",
        "for j  in list (grafo):\n",
        "  print(j)\n",
        "print(\"\")\n",
        "print(\"**GRAFO2**\")\n",
        "for j  in list (grafo):\n",
        "  print(j)\n",
        "print(len(grafo2))\n",
        "\n",
        "secuencia =\"\"\n",
        "for i in range(len(grafo)):\n",
        "  secuencia = secuencia + str(i)\n",
        "\n",
        "p = list (permutations('0123'))\n",
        "\n",
        "if len(grafo) == len(grafo2):\n",
        "  for permutacion in p:\n",
        "  #print(permutacion)\n",
        "    isAutomor = True\n",
        "    for i in range(len(grafo)):\n",
        "      for j in range(len(grafo2)):\n",
        "        #print(i,j,\" \", grafo[int (permutacion[i])][int (permutacion[j])], \" \", grafo[i][j])\n",
        "        if grafo2[int (permutacion[i])][int (permutacion[j])] != grafo[i][j]:\n",
        "          isAutomor = False \n",
        "          break\n",
        "        else:\n",
        "          isAutomor = isAutomor and True\n",
        "      if not isAutomor:\n",
        "        break\n",
        "    if isAutomor:\n",
        "      print(\"función biyectiva del grafo 1 al 2: \")\n",
        "      print(p[0])\n",
        "      print(permutacion)\n",
        "\n",
        "else:\n",
        "  print(\"NO SON DE IGUAL TAMAÑO\")\n",
        "#HECHO EN CONJUNTO POR DIEGO ALEJANDRO CARVAJAL BELTRAN, NICOLAS DARIO MEJIA BORDA y NICOLAS HOYOS PEDRAZA"
      ],
      "execution_count": 5,
      "outputs": [
        {
          "output_type": "stream",
          "text": [
            "**GRAFO1**\n",
            "[0, 1, 1, 0]\n",
            "[1, 0, 0, 1]\n",
            "[1, 0, 0, 1]\n",
            "[0, 1, 1, 0]\n",
            "\n",
            "**GRAFO2**\n",
            "[0, 1, 1, 0]\n",
            "[1, 0, 0, 1]\n",
            "[1, 0, 0, 1]\n",
            "[0, 1, 1, 0]\n",
            "4\n",
            "función biyectiva del grafo 1 al 2: \n",
            "('0', '1', '2', '3')\n",
            "('0', '1', '3', '2')\n",
            "función biyectiva del grafo 1 al 2: \n",
            "('0', '1', '2', '3')\n",
            "('0', '3', '1', '2')\n",
            "función biyectiva del grafo 1 al 2: \n",
            "('0', '1', '2', '3')\n",
            "('1', '0', '2', '3')\n",
            "función biyectiva del grafo 1 al 2: \n",
            "('0', '1', '2', '3')\n",
            "('1', '2', '0', '3')\n",
            "función biyectiva del grafo 1 al 2: \n",
            "('0', '1', '2', '3')\n",
            "('2', '1', '3', '0')\n",
            "función biyectiva del grafo 1 al 2: \n",
            "('0', '1', '2', '3')\n",
            "('2', '3', '1', '0')\n",
            "función biyectiva del grafo 1 al 2: \n",
            "('0', '1', '2', '3')\n",
            "('3', '0', '2', '1')\n",
            "función biyectiva del grafo 1 al 2: \n",
            "('0', '1', '2', '3')\n",
            "('3', '2', '0', '1')\n"
          ],
          "name": "stdout"
        }
      ]
    }
  ]
}